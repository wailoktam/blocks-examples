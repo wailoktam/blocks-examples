{
  "cells": [
    {
      "cell_type": "markdown",
      "metadata": {
        "id": "view-in-github",
        "colab_type": "text"
      },
      "source": [
        "<a href=\"https://colab.research.google.com/github/wailoktam/blocks-examples/blob/master/newYutaiStrat.ipynb\" target=\"_parent\"><img src=\"https://colab.research.google.com/assets/colab-badge.svg\" alt=\"Open In Colab\"/></a>"
      ]
    },
    {
      "cell_type": "code",
      "execution_count": null,
      "metadata": {
        "colab": {
          "base_uri": "https://localhost:8080/"
        },
        "id": "MCpGnNOJHj3-",
        "outputId": "3680403a-d8ad-472e-9d89-095f0ab5a094"
      },
      "outputs": [
        {
          "name": "stdout",
          "output_type": "stream",
          "text": [
            "Requirement already satisfied: yfinance in /usr/local/lib/python3.10/dist-packages (0.2.25)\n",
            "Requirement already satisfied: pandas>=1.3.0 in /usr/local/lib/python3.10/dist-packages (from yfinance) (1.5.3)\n",
            "Requirement already satisfied: numpy>=1.16.5 in /usr/local/lib/python3.10/dist-packages (from yfinance) (1.22.4)\n",
            "Requirement already satisfied: requests>=2.26 in /usr/local/lib/python3.10/dist-packages (from yfinance) (2.27.1)\n",
            "Requirement already satisfied: multitasking>=0.0.7 in /usr/local/lib/python3.10/dist-packages (from yfinance) (0.0.11)\n",
            "Requirement already satisfied: lxml>=4.9.1 in /usr/local/lib/python3.10/dist-packages (from yfinance) (4.9.3)\n",
            "Requirement already satisfied: appdirs>=1.4.4 in /usr/local/lib/python3.10/dist-packages (from yfinance) (1.4.4)\n",
            "Requirement already satisfied: pytz>=2022.5 in /usr/local/lib/python3.10/dist-packages (from yfinance) (2022.7.1)\n",
            "Requirement already satisfied: frozendict>=2.3.4 in /usr/local/lib/python3.10/dist-packages (from yfinance) (2.3.8)\n",
            "Requirement already satisfied: beautifulsoup4>=4.11.1 in /usr/local/lib/python3.10/dist-packages (from yfinance) (4.11.2)\n",
            "Requirement already satisfied: html5lib>=1.1 in /usr/local/lib/python3.10/dist-packages (from yfinance) (1.1)\n",
            "Requirement already satisfied: soupsieve>1.2 in /usr/local/lib/python3.10/dist-packages (from beautifulsoup4>=4.11.1->yfinance) (2.4.1)\n",
            "Requirement already satisfied: six>=1.9 in /usr/local/lib/python3.10/dist-packages (from html5lib>=1.1->yfinance) (1.16.0)\n",
            "Requirement already satisfied: webencodings in /usr/local/lib/python3.10/dist-packages (from html5lib>=1.1->yfinance) (0.5.1)\n",
            "Requirement already satisfied: python-dateutil>=2.8.1 in /usr/local/lib/python3.10/dist-packages (from pandas>=1.3.0->yfinance) (2.8.2)\n",
            "Requirement already satisfied: urllib3<1.27,>=1.21.1 in /usr/local/lib/python3.10/dist-packages (from requests>=2.26->yfinance) (1.26.16)\n",
            "Requirement already satisfied: certifi>=2017.4.17 in /usr/local/lib/python3.10/dist-packages (from requests>=2.26->yfinance) (2023.5.7)\n",
            "Requirement already satisfied: charset-normalizer~=2.0.0 in /usr/local/lib/python3.10/dist-packages (from requests>=2.26->yfinance) (2.0.12)\n",
            "Requirement already satisfied: idna<4,>=2.5 in /usr/local/lib/python3.10/dist-packages (from requests>=2.26->yfinance) (3.4)\n"
          ]
        }
      ],
      "source": [
        "!pip install yfinance\n"
      ]
    },
    {
      "cell_type": "code",
      "execution_count": 10,
      "metadata": {
        "id": "QOAvBGrPIfzv"
      },
      "outputs": [],
      "source": [
        "import yfinance\n",
        "import csv\n",
        "from datetime import datetime, timedelta"
      ]
    },
    {
      "cell_type": "code",
      "execution_count": 11,
      "metadata": {
        "colab": {
          "base_uri": "https://localhost:8080/"
        },
        "id": "ah7BgVKiuJGH",
        "outputId": "fbb161a5-7d69-49e5-e14e-3dbc4ae81deb"
      },
      "outputs": [
        {
          "output_type": "stream",
          "name": "stderr",
          "text": [
            "WARNING:yfinance:price-repair-100x: Cannot check single-row table for 100x price errors\n"
          ]
        },
        {
          "output_type": "stream",
          "name": "stdout",
          "text": [
            "2702.T\n",
            "2018-06-26\n",
            "Open\n",
            "[*********************100%***********************]  1 of 1 completed\n",
            "              Open    High     Low   Close   Adj Close   Volume  Repaired?\n",
            "Date                                                                      \n",
            "2018-06-26  5720.0  5750.0  5650.0  5690.0  5461.07959  1319900      False\n"
          ]
        },
        {
          "output_type": "execute_result",
          "data": {
            "text/plain": [
              "5720.0"
            ]
          },
          "metadata": {},
          "execution_count": 11
        }
      ],
      "source": [
        "from google import colab\n",
        "\n",
        "def profitCal(sellPriceList,buyPriceList,multiplierList,betaList,hedgeFlag,sellHedgePrice,buyHedgePrice):\n",
        "  profit = 0\n",
        "  hedgeAmt = 0\n",
        "  for s,b,m in zip(sellPriceList,buyPriceList,multiplierList):\n",
        "    profit += (s-b)*m\n",
        "  for be,bp,m in zip(betaList,buyPriceList,multiplierList):\n",
        "    hedgeAmt += bp * be * m\n",
        "  print (\"hedgeAmt\"+str(hedgeAmt))\n",
        "  hedgeProfit = (sellHedgePrice - buyHedgePrice) * int(hedgeAmt/(buyHedgePrice*100))*100\n",
        "  print (\"profit\"+str(profit))\n",
        "  print (\"hedgeProfit\"+str(hedgeProfit))\n",
        "  return profit+hedgeProfit\n",
        "\n",
        "\n",
        "def getPrice(label,timeStr,col):\n",
        "  print (label)\n",
        "  print (timeStr)\n",
        "  print (col)\n",
        "  ticker_info = yfinance.Ticker(label)\n",
        "  tickerDf = yfinance.download(\n",
        "      tickers = label , period = \"1d\", interval = \"1d\", prepost = False, start = timeStr, end =  (datetime.strptime(timeStr, '%Y-%m-%d') + timedelta(days=1)).strftime('%Y-%m-%d'), repair = True)\n",
        "  print (tickerDf)\n",
        "  return tickerDf.iloc[0][col]\n",
        "\n",
        "getPrice(\"2702.T\",\"2018-06-26\",\"Open\")"
      ]
    },
    {
      "cell_type": "code",
      "execution_count": 12,
      "metadata": {
        "colab": {
          "base_uri": "https://localhost:8080/"
        },
        "id": "GPJL7w3rlvRV",
        "outputId": "120e5c16-ae04-4c6e-d61a-de374c82cb65"
      },
      "outputs": [
        {
          "output_type": "stream",
          "name": "stdout",
          "text": [
            "Drive already mounted at /content/drive; to attempt to forcibly remount, call drive.mount(\"/content/drive\", force_remount=True).\n"
          ]
        }
      ],
      "source": [
        "from google.colab import drive\n",
        "drive.mount('/content/drive')"
      ]
    },
    {
      "cell_type": "code",
      "execution_count": 13,
      "metadata": {
        "colab": {
          "base_uri": "https://localhost:8080/"
        },
        "id": "TBMcHTx1LxD9",
        "outputId": "e021ec67-ac40-4c1d-cf15-b9f1a4facc3c"
      },
      "outputs": [
        {
          "output_type": "stream",
          "name": "stderr",
          "text": [
            "WARNING:yfinance:price-repair-100x: Cannot check single-row table for 100x price errors\n"
          ]
        },
        {
          "output_type": "stream",
          "name": "stdout",
          "text": [
            "/content\n",
            "2702.T\n",
            "2018-06-26\n",
            "Open\n",
            "\r[*********************100%***********************]  1 of 1 completed\n",
            "              Open    High     Low   Close   Adj Close   Volume  Repaired?\n",
            "Date                                                                      \n",
            "2018-06-26  5720.0  5750.0  5650.0  5690.0  5461.07959  1319900      False"
          ]
        },
        {
          "output_type": "stream",
          "name": "stderr",
          "text": [
            "WARNING:yfinance:price-repair-100x: Cannot check single-row table for 100x price errors\n"
          ]
        },
        {
          "output_type": "stream",
          "name": "stdout",
          "text": [
            "\n",
            "2702.T\n",
            "2018-04-24\n",
            "Open\n",
            "\r[*********************100%***********************]  1 of 1 completed\n",
            "              Open    High     Low   Close    Adj Close  Volume  Repaired?\n",
            "Date                                                                      \n",
            "2018-04-24  5160.0  5170.0  5120.0  5150.0  4942.804688  103000      False\n",
            "560.0\n"
          ]
        }
      ],
      "source": [
        "!sudo apt-get install -qq w3m # to act as web browser\n",
        "!xdg-settings set default-web-browser w3m.desktop # to set default browser\n",
        "%cd /content\n",
        "dateList = []\n",
        "profit = 0\n",
        "\n",
        "with open(\"drive/MyDrive/trades/5YrYutaiMini.txt\") as labelDateFile:\n",
        "    reader = csv.reader(labelDateFile)\n",
        "    for row in reader:\n",
        "      labelList = []\n",
        "      dateList.append(row[0])\n",
        "      if len(row) > 1:\n",
        "        labelList = row[1:]\n",
        "      if labelList:\n",
        "        for l in labelList:\n",
        "          sellPrice = getPrice(l+\".T\",dateList[-1],\"Open\")\n",
        "          buyPrice = getPrice(l+\".T\",dateList[-3],\"Open\")\n",
        "          profit += sellPrice - buyPrice\n",
        "    print (profit)\n"
      ]
    },
    {
      "cell_type": "code",
      "execution_count": 15,
      "metadata": {
        "id": "yDEqZrdl2fWU",
        "outputId": "b7b42c35-4c22-4e65-81d5-95231faf41b3",
        "colab": {
          "base_uri": "https://localhost:8080/"
        }
      },
      "outputs": [
        {
          "output_type": "stream",
          "name": "stdout",
          "text": [
            "2702.T\n",
            "2018-06-26\n",
            "Open\n"
          ]
        },
        {
          "output_type": "stream",
          "name": "stderr",
          "text": [
            "WARNING:yfinance:price-repair-100x: Cannot check single-row table for 100x price errors\n"
          ]
        },
        {
          "output_type": "stream",
          "name": "stdout",
          "text": [
            "\r[*********************100%***********************]  1 of 1 completed"
          ]
        },
        {
          "output_type": "stream",
          "name": "stderr",
          "text": [
            "WARNING:yfinance:price-repair-100x: Cannot check single-row table for 100x price errors\n"
          ]
        },
        {
          "output_type": "stream",
          "name": "stdout",
          "text": [
            "\n",
            "              Open    High     Low   Close   Adj Close   Volume  Repaired?\n",
            "Date                                                                      \n",
            "2018-06-26  5720.0  5750.0  5650.0  5690.0  5461.07959  1319900      False\n",
            "2702.T\n",
            "2018-04-24\n",
            "Open\n",
            "\r[*********************100%***********************]  1 of 1 completed\n",
            "              Open    High     Low   Close    Adj Close  Volume  Repaired?\n",
            "Date                                                                      \n",
            "2018-04-24  5160.0  5170.0  5120.0  5150.0  4942.804688  103000      False\n"
          ]
        },
        {
          "output_type": "stream",
          "name": "stderr",
          "text": [
            "WARNING:yfinance:price-repair-100x: Cannot check single-row table for 100x price errors\n"
          ]
        },
        {
          "output_type": "stream",
          "name": "stdout",
          "text": [
            "^N225\n",
            "2018-04-24\n",
            "Open\n",
            "\r[*********************100%***********************]  1 of 1 completed\n",
            "                    Open          High           Low         Close  \\\n",
            "Date                                                                 \n",
            "2018-04-24  22228.820312  22304.689453  22149.589844  22278.119141   \n",
            "\n",
            "               Adj Close    Volume  Repaired?  \n",
            "Date                                           \n",
            "2018-04-24  22278.119141  76500000      False  \n",
            "^N225\n",
            "2018-06-26\n",
            "Open\n"
          ]
        },
        {
          "output_type": "stream",
          "name": "stderr",
          "text": [
            "WARNING:yfinance:price-repair-100x: Cannot check single-row table for 100x price errors\n"
          ]
        },
        {
          "output_type": "stream",
          "name": "stdout",
          "text": [
            "\r[*********************100%***********************]  1 of 1 completed\n",
            "                    Open          High           Low    Close  Adj Close  \\\n",
            "Date                                                                       \n",
            "2018-06-26  22160.330078  22368.779297  22104.119141  22342.0    22342.0   \n",
            "\n",
            "              Volume  Repaired?  \n",
            "Date                             \n",
            "2018-06-26  71300000      False  \n",
            "hedgeAmt653024.8319999999\n",
            "profit448000.0\n",
            "hedgeProfit0.0\n",
            "2752.T\n",
            "2018-06-26\n",
            "Open\n"
          ]
        },
        {
          "output_type": "stream",
          "name": "stderr",
          "text": [
            "WARNING:yfinance:price-repair-100x: Cannot check single-row table for 100x price errors\n"
          ]
        },
        {
          "output_type": "stream",
          "name": "stdout",
          "text": [
            "\r[*********************100%***********************]  1 of 1 completed\n",
            "              Open    High     Low   Close    Adj Close  Volume  Repaired?\n",
            "Date                                                                      \n",
            "2018-06-26  1042.5  1045.5  1040.0  1040.0  1034.522949  117400      False\n",
            "2752.T\n",
            "2018-04-24\n",
            "Open\n"
          ]
        },
        {
          "output_type": "stream",
          "name": "stderr",
          "text": [
            "WARNING:yfinance:price-repair-100x: Cannot check single-row table for 100x price errors\n"
          ]
        },
        {
          "output_type": "stream",
          "name": "stdout",
          "text": [
            "\r[*********************100%***********************]  1 of 1 completed\n",
            "              Open    High     Low   Close   Adj Close  Volume  Repaired?\n",
            "Date                                                                     \n",
            "2018-04-24  1000.0  1004.0  1000.0  1002.5  997.220398   45000      False\n"
          ]
        },
        {
          "output_type": "stream",
          "name": "stderr",
          "text": [
            "WARNING:yfinance:price-repair-100x: Cannot check single-row table for 100x price errors\n"
          ]
        },
        {
          "output_type": "stream",
          "name": "stdout",
          "text": [
            "^N225\n",
            "2018-04-24\n",
            "Open\n",
            "\r[*********************100%***********************]  1 of 1 completed\n",
            "                    Open          High           Low         Close  \\\n",
            "Date                                                                 \n",
            "2018-04-24  22228.820312  22304.689453  22149.589844  22278.119141   \n",
            "\n",
            "               Adj Close    Volume  Repaired?  \n",
            "Date                                           \n",
            "2018-04-24  22278.119141  76500000      False  \n",
            "^N225\n",
            "2018-06-26\n",
            "Open\n"
          ]
        },
        {
          "output_type": "stream",
          "name": "stderr",
          "text": [
            "WARNING:yfinance:price-repair-100x: Cannot check single-row table for 100x price errors\n"
          ]
        },
        {
          "output_type": "stream",
          "name": "stdout",
          "text": [
            "\r[*********************100%***********************]  1 of 1 completed\n",
            "                    Open          High           Low    Close  Adj Close  \\\n",
            "Date                                                                       \n",
            "2018-06-26  22160.330078  22368.779297  22104.119141  22342.0    22342.0   \n",
            "\n",
            "              Volume  Repaired?  \n",
            "Date                             \n",
            "2018-06-26  71300000      False  \n",
            "hedgeAmt653024.8319999999\n",
            "profit630750.0\n",
            "hedgeProfit0.0\n",
            "3028.T\n",
            "2018-06-26\n",
            "Open\n"
          ]
        },
        {
          "output_type": "stream",
          "name": "stderr",
          "text": [
            "WARNING:yfinance:price-repair-100x: Cannot check single-row table for 100x price errors\n"
          ]
        },
        {
          "output_type": "stream",
          "name": "stdout",
          "text": [
            "\r[*********************100%***********************]  1 of 1 completed\n",
            "              Open    High     Low   Close    Adj Close  Volume  Repaired?\n",
            "Date                                                                      \n",
            "2018-06-26  2410.0  2410.0  2330.0  2341.0  2071.425781  525500      False\n",
            "3028.T\n",
            "2018-04-24\n",
            "Open\n"
          ]
        },
        {
          "output_type": "stream",
          "name": "stderr",
          "text": [
            "WARNING:yfinance:price-repair-100x: Cannot check single-row table for 100x price errors\n"
          ]
        },
        {
          "output_type": "stream",
          "name": "stdout",
          "text": [
            "\r[*********************100%***********************]  1 of 1 completed\n",
            "              Open    High     Low   Close    Adj Close  Volume  Repaired?\n",
            "Date                                                                      \n",
            "2018-04-24  2332.0  2354.0  2317.0  2350.0  2079.389404   49300      False\n"
          ]
        },
        {
          "output_type": "stream",
          "name": "stderr",
          "text": [
            "WARNING:yfinance:price-repair-100x: Cannot check single-row table for 100x price errors\n"
          ]
        },
        {
          "output_type": "stream",
          "name": "stdout",
          "text": [
            "^N225\n",
            "2018-04-24\n",
            "Open\n",
            "\r[*********************100%***********************]  1 of 1 completed\n",
            "                    Open          High           Low         Close  \\\n",
            "Date                                                                 \n",
            "2018-04-24  22228.820312  22304.689453  22149.589844  22278.119141   \n",
            "\n",
            "               Adj Close    Volume  Repaired?  \n",
            "Date                                           \n",
            "2018-04-24  22278.119141  76500000      False  \n",
            "^N225\n",
            "2018-06-26\n",
            "Open\n"
          ]
        },
        {
          "output_type": "stream",
          "name": "stderr",
          "text": [
            "WARNING:yfinance:price-repair-100x: Cannot check single-row table for 100x price errors\n"
          ]
        },
        {
          "output_type": "stream",
          "name": "stdout",
          "text": [
            "\r[*********************100%***********************]  1 of 1 completed\n",
            "                    Open          High           Low    Close  Adj Close  \\\n",
            "Date                                                                       \n",
            "2018-06-26  22160.330078  22368.779297  22104.119141  22342.0    22342.0   \n",
            "\n",
            "              Volume  Repaired?  \n",
            "Date                             \n",
            "2018-06-26  71300000      False  \n",
            "hedgeAmt653024.8319999999\n",
            "profit771150.0\n",
            "hedgeProfit0.0\n",
            "3097.T\n",
            "2018-06-26\n",
            "Open\n"
          ]
        },
        {
          "output_type": "stream",
          "name": "stderr",
          "text": [
            "WARNING:yfinance:price-repair-100x: Cannot check single-row table for 100x price errors\n"
          ]
        },
        {
          "output_type": "stream",
          "name": "stdout",
          "text": [
            "\r[*********************100%***********************]  1 of 1 completed\n",
            "                   Open         High          Low   Close    Adj Close  \\\n",
            "Date                                                                     \n",
            "2018-06-26  1771.666626  1788.333374  1718.333374  1755.0  1662.417236   \n",
            "\n",
            "             Volume  Repaired?  \n",
            "Date                            \n",
            "2018-06-26  1449600      False  \n",
            "3097.T\n",
            "2018-04-24\n",
            "Open\n"
          ]
        },
        {
          "output_type": "stream",
          "name": "stderr",
          "text": [
            "WARNING:yfinance:price-repair-100x: Cannot check single-row table for 100x price errors\n"
          ]
        },
        {
          "output_type": "stream",
          "name": "stdout",
          "text": [
            "\r[*********************100%***********************]  1 of 1 completed\n",
            "              Open    High     Low   Close    Adj Close  Volume  Repaired?\n",
            "Date                                                                      \n",
            "2018-04-24  1945.0  1945.0  1880.0  1895.0  1795.031738  265200      False\n"
          ]
        },
        {
          "output_type": "stream",
          "name": "stderr",
          "text": [
            "WARNING:yfinance:price-repair-100x: Cannot check single-row table for 100x price errors\n"
          ]
        },
        {
          "output_type": "stream",
          "name": "stdout",
          "text": [
            "^N225\n",
            "2018-04-24\n",
            "Open\n",
            "\r[*********************100%***********************]  1 of 1 completed\n",
            "                    Open          High           Low         Close  \\\n",
            "Date                                                                 \n",
            "2018-04-24  22228.820312  22304.689453  22149.589844  22278.119141   \n",
            "\n",
            "               Adj Close    Volume  Repaired?  \n",
            "Date                                           \n",
            "2018-04-24  22278.119141  76500000      False  \n",
            "^N225\n",
            "2018-06-26\n",
            "Open\n"
          ]
        },
        {
          "output_type": "stream",
          "name": "stderr",
          "text": [
            "WARNING:yfinance:price-repair-100x: Cannot check single-row table for 100x price errors\n"
          ]
        },
        {
          "output_type": "stream",
          "name": "stdout",
          "text": [
            "\r[*********************100%***********************]  1 of 1 completed\n",
            "                    Open          High           Low    Close  Adj Close  \\\n",
            "Date                                                                       \n",
            "2018-06-26  22160.330078  22368.779297  22104.119141  22342.0    22342.0   \n",
            "\n",
            "              Volume  Repaired?  \n",
            "Date                             \n",
            "2018-06-26  71300000      False  \n",
            "hedgeAmt653024.8319999999\n",
            "profit389816.5771484375\n",
            "hedgeProfit0.0\n",
            "3197.T\n",
            "2018-06-26\n",
            "Open\n"
          ]
        },
        {
          "output_type": "stream",
          "name": "stderr",
          "text": [
            "WARNING:yfinance:price-repair-100x: Cannot check single-row table for 100x price errors\n"
          ]
        },
        {
          "output_type": "stream",
          "name": "stdout",
          "text": [
            "\r[*********************100%***********************]  1 of 1 completed\n",
            "              Open    High     Low   Close    Adj Close   Volume  Repaired?\n",
            "Date                                                                       \n",
            "2018-06-26  1675.0  1675.0  1661.0  1673.0  1584.595215  3111500      False\n",
            "3197.T\n",
            "2018-04-24\n",
            "Open\n"
          ]
        },
        {
          "output_type": "stream",
          "name": "stderr",
          "text": [
            "WARNING:yfinance:price-repair-100x: Cannot check single-row table for 100x price errors\n"
          ]
        },
        {
          "output_type": "stream",
          "name": "stdout",
          "text": [
            "\r[*********************100%***********************]  1 of 1 completed\n",
            "              Open    High     Low   Close    Adj Close  Volume  Repaired?\n",
            "Date                                                                      \n",
            "2018-04-24  1574.0  1585.0  1571.0  1582.0  1498.403931  991700      False\n"
          ]
        },
        {
          "output_type": "stream",
          "name": "stderr",
          "text": [
            "WARNING:yfinance:price-repair-100x: Cannot check single-row table for 100x price errors\n"
          ]
        },
        {
          "output_type": "stream",
          "name": "stdout",
          "text": [
            "^N225\n",
            "2018-04-24\n",
            "Open\n",
            "\r[*********************100%***********************]  1 of 1 completed\n",
            "                    Open          High           Low         Close  \\\n",
            "Date                                                                 \n",
            "2018-04-24  22228.820312  22304.689453  22149.589844  22278.119141   \n",
            "\n",
            "               Adj Close    Volume  Repaired?  \n",
            "Date                                           \n",
            "2018-04-24  22278.119141  76500000      False  \n",
            "^N225\n",
            "2018-06-26\n",
            "Open\n"
          ]
        },
        {
          "output_type": "stream",
          "name": "stderr",
          "text": [
            "WARNING:yfinance:price-repair-100x: Cannot check single-row table for 100x price errors\n"
          ]
        },
        {
          "output_type": "stream",
          "name": "stdout",
          "text": [
            "\r[*********************100%***********************]  1 of 1 completed\n",
            "                    Open          High           Low    Close  Adj Close  \\\n",
            "Date                                                                       \n",
            "2018-06-26  22160.330078  22368.779297  22104.119141  22342.0    22342.0   \n",
            "\n",
            "              Volume  Repaired?  \n",
            "Date                             \n",
            "2018-06-26  71300000      False  \n",
            "hedgeAmt653024.8319999999\n",
            "profit662516.5771484375\n",
            "hedgeProfit0.0\n",
            "7532.T\n",
            "2018-06-26\n",
            "Open\n"
          ]
        },
        {
          "output_type": "stream",
          "name": "stderr",
          "text": [
            "WARNING:yfinance:price-repair-100x: Cannot check single-row table for 100x price errors\n"
          ]
        },
        {
          "output_type": "stream",
          "name": "stdout",
          "text": [
            "\r[*********************100%***********************]  1 of 1 completed\n",
            "              Open    High     Low   Close    Adj Close   Volume  Repaired?\n",
            "Date                                                                       \n",
            "2018-06-26  1320.0  1322.5  1295.0  1310.0  1253.970459  3675600      False"
          ]
        },
        {
          "output_type": "stream",
          "name": "stderr",
          "text": [
            "WARNING:yfinance:price-repair-100x: Cannot check single-row table for 100x price errors\n"
          ]
        },
        {
          "output_type": "stream",
          "name": "stdout",
          "text": [
            "\n",
            "7532.T\n",
            "2018-04-24\n",
            "Open\n",
            "\r[*********************100%***********************]  1 of 1 completed\n",
            "              Open    High     Low   Close    Adj Close   Volume  Repaired?\n",
            "Date                                                                       \n",
            "2018-04-24  1462.5  1465.0  1427.5  1447.5  1385.589355  2140400      False\n"
          ]
        },
        {
          "output_type": "stream",
          "name": "stderr",
          "text": [
            "WARNING:yfinance:price-repair-100x: Cannot check single-row table for 100x price errors\n"
          ]
        },
        {
          "output_type": "stream",
          "name": "stdout",
          "text": [
            "^N225\n",
            "2018-04-24\n",
            "Open\n",
            "\r[*********************100%***********************]  1 of 1 completed\n",
            "                    Open          High           Low         Close  \\\n",
            "Date                                                                 \n",
            "2018-04-24  22228.820312  22304.689453  22149.589844  22278.119141   \n",
            "\n",
            "               Adj Close    Volume  Repaired?  \n",
            "Date                                           \n",
            "2018-04-24  22278.119141  76500000      False  \n",
            "^N225\n",
            "2018-06-26\n",
            "Open\n"
          ]
        },
        {
          "output_type": "stream",
          "name": "stderr",
          "text": [
            "WARNING:yfinance:price-repair-100x: Cannot check single-row table for 100x price errors\n"
          ]
        },
        {
          "output_type": "stream",
          "name": "stdout",
          "text": [
            "\r[*********************100%***********************]  1 of 1 completed\n",
            "                    Open          High           Low    Close  Adj Close  \\\n",
            "Date                                                                       \n",
            "2018-06-26  22160.330078  22368.779297  22104.119141  22342.0    22342.0   \n",
            "\n",
            "              Volume  Repaired?  \n",
            "Date                             \n",
            "2018-06-26  71300000      False  \n",
            "hedgeAmt653024.8319999999\n",
            "profit249266.5771484375\n",
            "hedgeProfit0.0\n",
            "8179.T\n",
            "2018-06-26\n",
            "Open\n"
          ]
        },
        {
          "output_type": "stream",
          "name": "stderr",
          "text": [
            "WARNING:yfinance:price-repair-100x: Cannot check single-row table for 100x price errors\n"
          ]
        },
        {
          "output_type": "stream",
          "name": "stdout",
          "text": [
            "\r[*********************100%***********************]  1 of 1 completed\n",
            "              Open    High     Low   Close   Adj Close  Volume  Repaired?\n",
            "Date                                                                     \n",
            "2018-06-26  2944.0  2953.0  2865.0  2877.0  2792.26709  797400      False\n",
            "8179.T\n",
            "2018-04-24\n",
            "Open\n"
          ]
        },
        {
          "output_type": "stream",
          "name": "stderr",
          "text": [
            "WARNING:yfinance:price-repair-100x: Cannot check single-row table for 100x price errors\n"
          ]
        },
        {
          "output_type": "stream",
          "name": "stdout",
          "text": [
            "\r[*********************100%***********************]  1 of 1 completed\n",
            "              Open    High     Low   Close    Adj Close  Volume  Repaired?\n",
            "Date                                                                      \n",
            "2018-04-24  2940.0  2947.0  2907.0  2944.0  2857.293701   55200      False\n"
          ]
        },
        {
          "output_type": "stream",
          "name": "stderr",
          "text": [
            "WARNING:yfinance:price-repair-100x: Cannot check single-row table for 100x price errors\n"
          ]
        },
        {
          "output_type": "stream",
          "name": "stdout",
          "text": [
            "^N225\n",
            "2018-04-24\n",
            "Open\n",
            "\r[*********************100%***********************]  1 of 1 completed\n",
            "                    Open          High           Low         Close  \\\n",
            "Date                                                                 \n",
            "2018-04-24  22228.820312  22304.689453  22149.589844  22278.119141   \n",
            "\n",
            "               Adj Close    Volume  Repaired?  \n",
            "Date                                           \n",
            "2018-04-24  22278.119141  76500000      False  \n",
            "^N225\n",
            "2018-06-26\n",
            "Open\n"
          ]
        },
        {
          "output_type": "stream",
          "name": "stderr",
          "text": [
            "WARNING:yfinance:price-repair-100x: Cannot check single-row table for 100x price errors\n"
          ]
        },
        {
          "output_type": "stream",
          "name": "stdout",
          "text": [
            "\r[*********************100%***********************]  1 of 1 completed\n",
            "                    Open          High           Low    Close  Adj Close  \\\n",
            "Date                                                                       \n",
            "2018-06-26  22160.330078  22368.779297  22104.119141  22342.0    22342.0   \n",
            "\n",
            "              Volume  Repaired?  \n",
            "Date                             \n",
            "2018-06-26  71300000      False  \n",
            "hedgeAmt653024.8319999999\n",
            "profit255266.5771484375\n",
            "hedgeProfit0.0\n",
            "2157.T\n",
            "2018-08-28\n",
            "Open\n"
          ]
        },
        {
          "output_type": "stream",
          "name": "stderr",
          "text": [
            "WARNING:yfinance:price-repair-100x: Cannot check single-row table for 100x price errors\n"
          ]
        },
        {
          "output_type": "stream",
          "name": "stdout",
          "text": [
            "\r[*********************100%***********************]  1 of 1 completed\n",
            "                  Open        High         Low       Close   Adj Close  \\\n",
            "Date                                                                     \n",
            "2018-08-28  515.705811  519.609375  506.597473  513.103455  476.996582   \n",
            "\n",
            "             Volume  Repaired?  \n",
            "Date                            \n",
            "2018-08-28  2477113      False  \n",
            "2157.T\n",
            "2018-06-26\n",
            "Open\n"
          ]
        },
        {
          "output_type": "stream",
          "name": "stderr",
          "text": [
            "WARNING:yfinance:price-repair-100x: Cannot check single-row table for 100x price errors\n"
          ]
        },
        {
          "output_type": "stream",
          "name": "stdout",
          "text": [
            "\r[*********************100%***********************]  1 of 1 completed\n",
            "                  Open        High         Low       Close   Adj Close  \\\n",
            "Date                                                                     \n",
            "2018-06-26  703.944946  715.221924  703.077515  705.246155  655.618286   \n",
            "\n",
            "            Volume  Repaired?  \n",
            "Date                           \n",
            "2018-06-26  521291      False  \n",
            "^N225\n",
            "2018-06-26\n",
            "Open\n"
          ]
        },
        {
          "output_type": "stream",
          "name": "stderr",
          "text": [
            "WARNING:yfinance:price-repair-100x: Cannot check single-row table for 100x price errors\n"
          ]
        },
        {
          "output_type": "stream",
          "name": "stdout",
          "text": [
            "\r[*********************100%***********************]  1 of 1 completed\n",
            "                    Open          High           Low    Close  Adj Close  \\\n",
            "Date                                                                       \n",
            "2018-06-26  22160.330078  22368.779297  22104.119141  22342.0    22342.0   \n",
            "\n",
            "              Volume  Repaired?  \n",
            "Date                             \n",
            "2018-06-26  71300000      False  \n",
            "^N225\n",
            "2018-08-28\n",
            "Open\n"
          ]
        },
        {
          "output_type": "stream",
          "name": "stderr",
          "text": [
            "WARNING:yfinance:price-repair-100x: Cannot check single-row table for 100x price errors\n"
          ]
        },
        {
          "output_type": "stream",
          "name": "stdout",
          "text": [
            "\r[*********************100%***********************]  1 of 1 completed\n",
            "                    Open          High           Low         Close  \\\n",
            "Date                                                                 \n",
            "2018-08-28  22967.740234  23006.769531  22813.470703  22813.470703   \n",
            "\n",
            "               Adj Close    Volume  Repaired?  \n",
            "Date                                           \n",
            "2018-08-28  22813.470703  60700000      False  \n",
            "hedgeAmt4808827.997217846\n",
            "profit-1148258.7280273438\n",
            "hedgeProfit-161482.03125\n",
            "2882.T\n",
            "2018-08-28\n",
            "Open\n"
          ]
        },
        {
          "output_type": "stream",
          "name": "stderr",
          "text": [
            "WARNING:yfinance:price-repair-100x: Cannot check single-row table for 100x price errors\n"
          ]
        },
        {
          "output_type": "stream",
          "name": "stdout",
          "text": [
            "\r[*********************100%***********************]  1 of 1 completed\n",
            "              Open    High     Low   Close    Adj Close  Volume  Repaired?\n",
            "Date                                                                      \n",
            "2018-08-28  1740.0  1744.0  1725.0  1727.0  1688.455688   20400      False\n",
            "2882.T\n",
            "2018-06-26\n",
            "Open\n"
          ]
        },
        {
          "output_type": "stream",
          "name": "stderr",
          "text": [
            "WARNING:yfinance:price-repair-100x: Cannot check single-row table for 100x price errors\n"
          ]
        },
        {
          "output_type": "stream",
          "name": "stdout",
          "text": [
            "\r[*********************100%***********************]  1 of 1 completed\n",
            "              Open    High     Low   Close    Adj Close  Volume  Repaired?\n",
            "Date                                                                      \n",
            "2018-06-26  2093.0  2116.0  2088.0  2116.0  2068.773682    5300      False\n",
            "^N225\n",
            "2018-06-26\n",
            "Open\n"
          ]
        },
        {
          "output_type": "stream",
          "name": "stderr",
          "text": [
            "WARNING:yfinance:price-repair-100x: Cannot check single-row table for 100x price errors\n"
          ]
        },
        {
          "output_type": "stream",
          "name": "stdout",
          "text": [
            "\r[*********************100%***********************]  1 of 1 completed\n",
            "                    Open          High           Low    Close  Adj Close  \\\n",
            "Date                                                                       \n",
            "2018-06-26  22160.330078  22368.779297  22104.119141  22342.0    22342.0   \n",
            "\n",
            "              Volume  Repaired?  \n",
            "Date                             \n",
            "2018-06-26  71300000      False  \n",
            "^N225\n",
            "2018-08-28\n",
            "Open\n"
          ]
        },
        {
          "output_type": "stream",
          "name": "stderr",
          "text": [
            "WARNING:yfinance:price-repair-100x: Cannot check single-row table for 100x price errors\n"
          ]
        },
        {
          "output_type": "stream",
          "name": "stdout",
          "text": [
            "\r[*********************100%***********************]  1 of 1 completed\n",
            "                    Open          High           Low         Close  \\\n",
            "Date                                                                 \n",
            "2018-08-28  22967.740234  23006.769531  22813.470703  22813.470703   \n",
            "\n",
            "               Adj Close    Volume  Repaired?  \n",
            "Date                                           \n",
            "2018-08-28  22813.470703  60700000      False  \n",
            "hedgeAmt4808827.997217846\n",
            "profit-1854258.7280273438\n",
            "hedgeProfit-161482.03125\n",
            "3046.T\n",
            "2018-08-28\n",
            "Open\n"
          ]
        },
        {
          "output_type": "stream",
          "name": "stderr",
          "text": [
            "WARNING:yfinance:price-repair-100x: Cannot check single-row table for 100x price errors\n"
          ]
        },
        {
          "output_type": "stream",
          "name": "stdout",
          "text": [
            "\r[*********************100%***********************]  1 of 1 completed\n",
            "              Open    High     Low   Close    Adj Close  Volume  Repaired?\n",
            "Date                                                                      \n",
            "2018-08-28  6000.0  6020.0  5970.0  5990.0  5732.137207  217000      False\n",
            "3046.T\n",
            "2018-06-26\n",
            "Open\n"
          ]
        },
        {
          "output_type": "stream",
          "name": "stderr",
          "text": [
            "WARNING:yfinance:price-repair-100x: Cannot check single-row table for 100x price errors\n"
          ]
        },
        {
          "output_type": "stream",
          "name": "stdout",
          "text": [
            "\r[*********************100%***********************]  1 of 1 completed\n",
            "              Open    High     Low   Close    Adj Close  Volume  Repaired?\n",
            "Date                                                                      \n",
            "2018-06-26  6530.0  6580.0  6480.0  6560.0  6277.599121   81000      False\n"
          ]
        },
        {
          "output_type": "stream",
          "name": "stderr",
          "text": [
            "WARNING:yfinance:price-repair-100x: Cannot check single-row table for 100x price errors\n"
          ]
        },
        {
          "output_type": "stream",
          "name": "stdout",
          "text": [
            "^N225\n",
            "2018-06-26\n",
            "Open\n",
            "\r[*********************100%***********************]  1 of 1 completed\n",
            "                    Open          High           Low    Close  Adj Close  \\\n",
            "Date                                                                       \n",
            "2018-06-26  22160.330078  22368.779297  22104.119141  22342.0    22342.0   \n",
            "\n",
            "              Volume  Repaired?  \n",
            "Date                             \n",
            "2018-06-26  71300000      False  \n",
            "^N225\n",
            "2018-08-28\n",
            "Open\n"
          ]
        },
        {
          "output_type": "stream",
          "name": "stderr",
          "text": [
            "WARNING:yfinance:price-repair-100x: Cannot check single-row table for 100x price errors\n"
          ]
        },
        {
          "output_type": "stream",
          "name": "stdout",
          "text": [
            "\r[*********************100%***********************]  1 of 1 completed\n",
            "                    Open          High           Low         Close  \\\n",
            "Date                                                                 \n",
            "2018-08-28  22967.740234  23006.769531  22813.470703  22813.470703   \n",
            "\n",
            "               Adj Close    Volume  Repaired?  \n",
            "Date                                           \n",
            "2018-08-28  22813.470703  60700000      False  \n",
            "hedgeAmt4808827.997217846\n",
            "profit-2225258.7280273438\n",
            "hedgeProfit-161482.03125\n",
            "3222.T\n",
            "2018-08-28\n",
            "Open\n"
          ]
        },
        {
          "output_type": "stream",
          "name": "stderr",
          "text": [
            "WARNING:yfinance:price-repair-100x: Cannot check single-row table for 100x price errors\n"
          ]
        },
        {
          "output_type": "stream",
          "name": "stdout",
          "text": [
            "\r[*********************100%***********************]  1 of 1 completed\n",
            "              Open    High     Low   Close    Adj Close  Volume  Repaired?\n",
            "Date                                                                      \n",
            "2018-08-28  1335.0  1336.0  1306.0  1310.0  1231.644775  965800      False\n",
            "3222.T\n",
            "2018-06-26\n",
            "Open\n"
          ]
        },
        {
          "output_type": "stream",
          "name": "stderr",
          "text": [
            "WARNING:yfinance:price-repair-100x: Cannot check single-row table for 100x price errors\n"
          ]
        },
        {
          "output_type": "stream",
          "name": "stdout",
          "text": [
            "\r[*********************100%***********************]  1 of 1 completed\n",
            "              Open    High     Low   Close    Adj Close  Volume  Repaired?\n",
            "Date                                                                      \n",
            "2018-06-26  1427.0  1435.0  1421.0  1435.0  1349.168091  165500      False\n"
          ]
        },
        {
          "output_type": "stream",
          "name": "stderr",
          "text": [
            "WARNING:yfinance:price-repair-100x: Cannot check single-row table for 100x price errors\n"
          ]
        },
        {
          "output_type": "stream",
          "name": "stdout",
          "text": [
            "^N225\n",
            "2018-06-26\n",
            "Open\n",
            "\r[*********************100%***********************]  1 of 1 completed\n",
            "                    Open          High           Low    Close  Adj Close  \\\n",
            "Date                                                                       \n",
            "2018-06-26  22160.330078  22368.779297  22104.119141  22342.0    22342.0   \n",
            "\n",
            "              Volume  Repaired?  \n",
            "Date                             \n",
            "2018-06-26  71300000      False  \n",
            "^N225\n",
            "2018-08-28\n",
            "Open\n"
          ]
        },
        {
          "output_type": "stream",
          "name": "stderr",
          "text": [
            "WARNING:yfinance:price-repair-100x: Cannot check single-row table for 100x price errors\n"
          ]
        },
        {
          "output_type": "stream",
          "name": "stdout",
          "text": [
            "\r[*********************100%***********************]  1 of 1 completed\n",
            "                    Open          High           Low         Close  \\\n",
            "Date                                                                 \n",
            "2018-08-28  22967.740234  23006.769531  22813.470703  22813.470703   \n",
            "\n",
            "               Adj Close    Volume  Repaired?  \n",
            "Date                                           \n",
            "2018-08-28  22813.470703  60700000      False  \n",
            "hedgeAmt4808827.997217846\n",
            "profit-2501258.7280273438\n",
            "hedgeProfit-161482.03125\n",
            "3387.T\n",
            "2018-08-28\n",
            "Open\n"
          ]
        },
        {
          "output_type": "stream",
          "name": "stderr",
          "text": [
            "WARNING:yfinance:price-repair-100x: Cannot check single-row table for 100x price errors\n"
          ]
        },
        {
          "output_type": "stream",
          "name": "stdout",
          "text": [
            "\r[*********************100%***********************]  1 of 1 completed\n",
            "             Open   High    Low  Close  Adj Close   Volume  Repaired?\n",
            "Date                                                                 \n",
            "2018-08-28  685.5  685.5  669.0  671.5    652.875  2663200      False\n",
            "3387.T\n",
            "2018-06-26\n",
            "Open\n"
          ]
        },
        {
          "output_type": "stream",
          "name": "stderr",
          "text": [
            "WARNING:yfinance:price-repair-100x: Cannot check single-row table for 100x price errors\n"
          ]
        },
        {
          "output_type": "stream",
          "name": "stdout",
          "text": [
            "\r[*********************100%***********************]  1 of 1 completed\n",
            "             Open   High    Low  Close   Adj Close  Volume  Repaired?\n",
            "Date                                                                 \n",
            "2018-06-26  820.5  820.5  777.0  794.0  771.977356  968800      False\n"
          ]
        },
        {
          "output_type": "stream",
          "name": "stderr",
          "text": [
            "WARNING:yfinance:price-repair-100x: Cannot check single-row table for 100x price errors\n"
          ]
        },
        {
          "output_type": "stream",
          "name": "stdout",
          "text": [
            "^N225\n",
            "2018-06-26\n",
            "Open\n",
            "\r[*********************100%***********************]  1 of 1 completed\n",
            "                    Open          High           Low    Close  Adj Close  \\\n",
            "Date                                                                       \n",
            "2018-06-26  22160.330078  22368.779297  22104.119141  22342.0    22342.0   \n",
            "\n",
            "              Volume  Repaired?  \n",
            "Date                             \n",
            "2018-06-26  71300000      False  \n",
            "^N225\n",
            "2018-08-28\n",
            "Open\n"
          ]
        },
        {
          "output_type": "stream",
          "name": "stderr",
          "text": [
            "WARNING:yfinance:price-repair-100x: Cannot check single-row table for 100x price errors\n"
          ]
        },
        {
          "output_type": "stream",
          "name": "stdout",
          "text": [
            "\r[*********************100%***********************]  1 of 1 completed\n",
            "                    Open          High           Low         Close  \\\n",
            "Date                                                                 \n",
            "2018-08-28  22967.740234  23006.769531  22813.470703  22813.470703   \n",
            "\n",
            "               Adj Close    Volume  Repaired?  \n",
            "Date                                           \n",
            "2018-08-28  22813.470703  60700000      False  \n",
            "hedgeAmt4808827.997217846\n",
            "profit-3203258.7280273438\n",
            "hedgeProfit-161482.03125\n",
            "8244.T\n",
            "2018-08-28\n",
            "Open\n"
          ]
        },
        {
          "output_type": "stream",
          "name": "stderr",
          "text": [
            "WARNING:yfinance:price-repair-100x: Cannot check single-row table for 100x price errors\n"
          ]
        },
        {
          "output_type": "stream",
          "name": "stdout",
          "text": [
            "\r[*********************100%***********************]  1 of 1 completed\n",
            "              Open    High     Low   Close    Adj Close  Volume  Repaired?\n",
            "Date                                                                      \n",
            "2018-08-28  3755.0  3780.0  3705.0  3705.0  3642.892822   75300      False\n",
            "8244.T\n",
            "2018-06-26\n",
            "Open\n"
          ]
        },
        {
          "output_type": "stream",
          "name": "stderr",
          "text": [
            "WARNING:yfinance:price-repair-100x: Cannot check single-row table for 100x price errors\n"
          ]
        },
        {
          "output_type": "stream",
          "name": "stdout",
          "text": [
            "\r[*********************100%***********************]  1 of 1 completed\n",
            "              Open    High     Low   Close    Adj Close  Volume  Repaired?\n",
            "Date                                                                      \n",
            "2018-06-26  4030.0  4060.0  4005.0  4010.0  3942.780029    7600      False\n"
          ]
        },
        {
          "output_type": "stream",
          "name": "stderr",
          "text": [
            "WARNING:yfinance:price-repair-100x: Cannot check single-row table for 100x price errors\n"
          ]
        },
        {
          "output_type": "stream",
          "name": "stdout",
          "text": [
            "^N225\n",
            "2018-06-26\n",
            "Open\n",
            "\r[*********************100%***********************]  1 of 1 completed\n",
            "                    Open          High           Low    Close  Adj Close  \\\n",
            "Date                                                                       \n",
            "2018-06-26  22160.330078  22368.779297  22104.119141  22342.0    22342.0   \n",
            "\n",
            "              Volume  Repaired?  \n",
            "Date                             \n",
            "2018-06-26  71300000      False  \n",
            "^N225\n",
            "2018-08-28\n",
            "Open\n"
          ]
        },
        {
          "output_type": "stream",
          "name": "stderr",
          "text": [
            "WARNING:yfinance:price-repair-100x: Cannot check single-row table for 100x price errors\n"
          ]
        },
        {
          "output_type": "stream",
          "name": "stdout",
          "text": [
            "\r[*********************100%***********************]  1 of 1 completed\n",
            "                    Open          High           Low         Close  \\\n",
            "Date                                                                 \n",
            "2018-08-28  22967.740234  23006.769531  22813.470703  22813.470703   \n",
            "\n",
            "               Adj Close    Volume  Repaired?  \n",
            "Date                                           \n",
            "2018-08-28  22813.470703  60700000      False  \n",
            "hedgeAmt4808827.997217846\n",
            "profit-3505758.7280273438\n",
            "hedgeProfit-161482.03125\n",
            "8267.T\n",
            "2018-08-28\n",
            "Open\n"
          ]
        },
        {
          "output_type": "stream",
          "name": "stderr",
          "text": [
            "WARNING:yfinance:price-repair-100x: Cannot check single-row table for 100x price errors\n"
          ]
        },
        {
          "output_type": "stream",
          "name": "stdout",
          "text": [
            "\r[*********************100%***********************]  1 of 1 completed\n",
            "              Open    High     Low   Close    Adj Close   Volume  Repaired?\n",
            "Date                                                                       \n",
            "2018-08-28  2474.0  2481.5  2434.0  2437.0  2308.404297  5958500      False\n",
            "8267.T\n",
            "2018-06-26\n",
            "Open\n"
          ]
        },
        {
          "output_type": "stream",
          "name": "stderr",
          "text": [
            "WARNING:yfinance:price-repair-100x: Cannot check single-row table for 100x price errors\n"
          ]
        },
        {
          "output_type": "stream",
          "name": "stdout",
          "text": [
            "\r[*********************100%***********************]  1 of 1 completed\n",
            "              Open    High     Low   Close    Adj Close   Volume  Repaired?\n",
            "Date                                                                       \n",
            "2018-06-26  2367.0  2374.0  2343.5  2349.5  2225.521484  2371000      False\n"
          ]
        },
        {
          "output_type": "stream",
          "name": "stderr",
          "text": [
            "WARNING:yfinance:price-repair-100x: Cannot check single-row table for 100x price errors\n"
          ]
        },
        {
          "output_type": "stream",
          "name": "stdout",
          "text": [
            "^N225\n",
            "2018-06-26\n",
            "Open\n",
            "\r[*********************100%***********************]  1 of 1 completed\n",
            "                    Open          High           Low    Close  Adj Close  \\\n",
            "Date                                                                       \n",
            "2018-06-26  22160.330078  22368.779297  22104.119141  22342.0    22342.0   \n",
            "\n",
            "              Volume  Repaired?  \n",
            "Date                             \n",
            "2018-06-26  71300000      False  \n",
            "^N225\n",
            "2018-08-28\n",
            "Open\n"
          ]
        },
        {
          "output_type": "stream",
          "name": "stderr",
          "text": [
            "WARNING:yfinance:price-repair-100x: Cannot check single-row table for 100x price errors\n"
          ]
        },
        {
          "output_type": "stream",
          "name": "stdout",
          "text": [
            "\r[*********************100%***********************]  1 of 1 completed\n",
            "                    Open          High           Low         Close  \\\n",
            "Date                                                                 \n",
            "2018-08-28  22967.740234  23006.769531  22813.470703  22813.470703   \n",
            "\n",
            "               Adj Close    Volume  Repaired?  \n",
            "Date                                           \n",
            "2018-08-28  22813.470703  60700000      False  \n",
            "hedgeAmt4808827.997217846\n",
            "profit-3313158.7280273438\n",
            "hedgeProfit-161482.03125\n",
            "-15474819.006347656\n"
          ]
        }
      ],
      "source": [
        "\n",
        "budget = 30000000\n",
        "profit = 0\n",
        "hedgeFlag = 1\n",
        "\n",
        "\n",
        "with open(\"drive/MyDrive/trades/5YrYutaiMini.txt\") as labelDateFile:\n",
        "    reader = csv.reader(labelDateFile)\n",
        "    for row in reader:\n",
        "      labelList = []\n",
        "      multiplierList = []\n",
        "      buyPriceList =[]\n",
        "      sellPriceList = []\n",
        "      betaList = []\n",
        "      longPosList = []\n",
        "      dateList.append(row[0])\n",
        "      if len(row) > 1:\n",
        "        labelList = row[1:]\n",
        "      if labelList:\n",
        "        budgetPerLabel = budget/len(labelList)\n",
        "        for l in labelList:\n",
        "          sellPriceList.append(getPrice(l+\".T\",dateList[-1],\"Open\"))\n",
        "          buyPrice = getPrice(l+\".T\",dateList[-3],\"Open\")\n",
        "          buyPriceList.append(buyPrice)\n",
        "          betaList.append(yfinance.Ticker(l+\".T\").info.get('beta'))\n",
        "          multiplier = int(round(budgetPerLabel/buyPrice, -2))\n",
        "          multiplierList.append(multiplier)\n",
        "          sellHedgePrice = getPrice(\"^N225\",dateList[-3],\"Open\")\n",
        "          buyHedgePrice = getPrice(\"^N225\",dateList[-1],\"Open\")\n",
        "          profit += (profitCal(sellPriceList,buyPriceList,multiplierList,betaList,hedgeFlag,sellHedgePrice,buyHedgePrice))\n",
        "    print (profit)\n",
        "\n"
      ]
    }
  ],
  "metadata": {
    "colab": {
      "provenance": [],
      "authorship_tag": "ABX9TyM57abI2roelMAf1da7/yI7",
      "include_colab_link": true
    },
    "kernelspec": {
      "display_name": "Python 3",
      "name": "python3"
    },
    "language_info": {
      "name": "python"
    }
  },
  "nbformat": 4,
  "nbformat_minor": 0
}