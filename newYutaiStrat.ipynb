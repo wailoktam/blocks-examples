{
  "cells": [
    {
      "cell_type": "markdown",
      "metadata": {
        "id": "view-in-github",
        "colab_type": "text"
      },
      "source": [
        "<a href=\"https://colab.research.google.com/github/wailoktam/blocks-examples/blob/master/newYutaiStrat.ipynb\" target=\"_parent\"><img src=\"https://colab.research.google.com/assets/colab-badge.svg\" alt=\"Open In Colab\"/></a>"
      ]
    },
    {
      "cell_type": "code",
      "execution_count": null,
      "metadata": {
        "colab": {
          "base_uri": "https://localhost:8080/"
        },
        "id": "MCpGnNOJHj3-",
        "outputId": "3680403a-d8ad-472e-9d89-095f0ab5a094"
      },
      "outputs": [
        {
          "name": "stdout",
          "output_type": "stream",
          "text": [
            "Requirement already satisfied: yfinance in /usr/local/lib/python3.10/dist-packages (0.2.25)\n",
            "Requirement already satisfied: pandas>=1.3.0 in /usr/local/lib/python3.10/dist-packages (from yfinance) (1.5.3)\n",
            "Requirement already satisfied: numpy>=1.16.5 in /usr/local/lib/python3.10/dist-packages (from yfinance) (1.22.4)\n",
            "Requirement already satisfied: requests>=2.26 in /usr/local/lib/python3.10/dist-packages (from yfinance) (2.27.1)\n",
            "Requirement already satisfied: multitasking>=0.0.7 in /usr/local/lib/python3.10/dist-packages (from yfinance) (0.0.11)\n",
            "Requirement already satisfied: lxml>=4.9.1 in /usr/local/lib/python3.10/dist-packages (from yfinance) (4.9.3)\n",
            "Requirement already satisfied: appdirs>=1.4.4 in /usr/local/lib/python3.10/dist-packages (from yfinance) (1.4.4)\n",
            "Requirement already satisfied: pytz>=2022.5 in /usr/local/lib/python3.10/dist-packages (from yfinance) (2022.7.1)\n",
            "Requirement already satisfied: frozendict>=2.3.4 in /usr/local/lib/python3.10/dist-packages (from yfinance) (2.3.8)\n",
            "Requirement already satisfied: beautifulsoup4>=4.11.1 in /usr/local/lib/python3.10/dist-packages (from yfinance) (4.11.2)\n",
            "Requirement already satisfied: html5lib>=1.1 in /usr/local/lib/python3.10/dist-packages (from yfinance) (1.1)\n",
            "Requirement already satisfied: soupsieve>1.2 in /usr/local/lib/python3.10/dist-packages (from beautifulsoup4>=4.11.1->yfinance) (2.4.1)\n",
            "Requirement already satisfied: six>=1.9 in /usr/local/lib/python3.10/dist-packages (from html5lib>=1.1->yfinance) (1.16.0)\n",
            "Requirement already satisfied: webencodings in /usr/local/lib/python3.10/dist-packages (from html5lib>=1.1->yfinance) (0.5.1)\n",
            "Requirement already satisfied: python-dateutil>=2.8.1 in /usr/local/lib/python3.10/dist-packages (from pandas>=1.3.0->yfinance) (2.8.2)\n",
            "Requirement already satisfied: urllib3<1.27,>=1.21.1 in /usr/local/lib/python3.10/dist-packages (from requests>=2.26->yfinance) (1.26.16)\n",
            "Requirement already satisfied: certifi>=2017.4.17 in /usr/local/lib/python3.10/dist-packages (from requests>=2.26->yfinance) (2023.5.7)\n",
            "Requirement already satisfied: charset-normalizer~=2.0.0 in /usr/local/lib/python3.10/dist-packages (from requests>=2.26->yfinance) (2.0.12)\n",
            "Requirement already satisfied: idna<4,>=2.5 in /usr/local/lib/python3.10/dist-packages (from requests>=2.26->yfinance) (3.4)\n"
          ]
        }
      ],
      "source": [
        "!pip install yfinance\n"
      ]
    },
    {
      "cell_type": "code",
      "execution_count": 1,
      "metadata": {
        "id": "QOAvBGrPIfzv"
      },
      "outputs": [],
      "source": [
        "import yfinance\n",
        "import csv\n",
        "from datetime import datetime, timedelta"
      ]
    },
    {
      "cell_type": "code",
      "execution_count": 3,
      "metadata": {
        "colab": {
          "base_uri": "https://localhost:8080/"
        },
        "id": "ah7BgVKiuJGH",
        "outputId": "4d74fad3-723a-40ab-d3a5-2f1f702a794b"
      },
      "outputs": [
        {
          "output_type": "stream",
          "name": "stdout",
          "text": [
            "2702.T\n",
            "2018-06-26\n",
            "Open\n"
          ]
        },
        {
          "output_type": "stream",
          "name": "stderr",
          "text": [
            "WARNING:yfinance:price-repair-100x: Cannot check single-row table for 100x price errors\n"
          ]
        },
        {
          "output_type": "stream",
          "name": "stdout",
          "text": [
            "\r[*********************100%***********************]  1 of 1 completed\n",
            "              Open    High     Low   Close   Adj Close   Volume  Repaired?\n",
            "Date                                                                      \n",
            "2018-06-26  5720.0  5750.0  5650.0  5690.0  5461.07959  1319900      False\n"
          ]
        },
        {
          "output_type": "execute_result",
          "data": {
            "text/plain": [
              "5720.0"
            ]
          },
          "metadata": {},
          "execution_count": 3
        }
      ],
      "source": [
        "from google import colab\n",
        "\n",
        "def profitCal(sellPriceList,buyPriceList,multiplierList,betaList,hedgeFlag,sellHedgePrice,buyHedgePrice):\n",
        "        profit = 0\n",
        "        hedgeAmt = 0\n",
        "        for s,b,m in zip(sellPriceList,buyPriceList,multiplierList):\n",
        "          profit += (s-b)*m\n",
        "        for be,bp,m in zip(betaList,buyPriceList,multiplierList):\n",
        "          hedgeAmt += bp * be * m\n",
        "          print (\"hedgeAmt\"+str(hedgeAmt))\n",
        "          hedgeProfit = (sellHedgePrice - buyHedgePrice) * int(hedgeAmt/(buyHedgePrice*100))*100\n",
        "          print (\"profit\"+str(profit))\n",
        "          print (\"hedgeProfit\"+str(hedgeProfit))\n",
        "          return profit+hedgeProfit\n",
        "\n",
        "\n",
        "def getPrice(label,timeStr,col):\n",
        "  print (label)\n",
        "  print (timeStr)\n",
        "  print (col)\n",
        "  ticker_info = yfinance.Ticker(label)\n",
        "  tickerDf = yfinance.download(\n",
        "      tickers = label , period = \"1d\", interval = \"1d\", prepost = False, start = timeStr, end =  (datetime.strptime(timeStr, '%Y-%m-%d') + timedelta(days=1)).strftime('%Y-%m-%d'), repair = True)\n",
        "  print (tickerDf)\n",
        "  return tickerDf.iloc[0][col]\n",
        "\n",
        "getPrice(\"2702.T\",\"2018-06-26\",\"Open\")"
      ]
    },
    {
      "cell_type": "code",
      "execution_count": 4,
      "metadata": {
        "colab": {
          "base_uri": "https://localhost:8080/"
        },
        "id": "GPJL7w3rlvRV",
        "outputId": "752c1dd2-19ec-49da-f33b-bec8013a5791"
      },
      "outputs": [
        {
          "output_type": "stream",
          "name": "stdout",
          "text": [
            "Mounted at /content/drive\n"
          ]
        }
      ],
      "source": [
        "from google.colab import drive\n",
        "drive.mount('/content/drive')"
      ]
    },
    {
      "cell_type": "code",
      "execution_count": 5,
      "metadata": {
        "colab": {
          "base_uri": "https://localhost:8080/"
        },
        "id": "TBMcHTx1LxD9",
        "outputId": "73698bc3-d580-46fc-bf61-5117aea51398"
      },
      "outputs": [
        {
          "output_type": "stream",
          "name": "stdout",
          "text": [
            "debconf: unable to initialize frontend: Dialog\n",
            "debconf: (No usable dialog-like program is installed, so the dialog based frontend cannot be used. at /usr/share/perl5/Debconf/FrontEnd/Dialog.pm line 78, <> line 1.)\n",
            "debconf: falling back to frontend: Readline\n",
            "debconf: unable to initialize frontend: Readline\n",
            "debconf: (This frontend requires a controlling tty.)\n",
            "debconf: falling back to frontend: Teletype\n",
            "dpkg-preconfigure: unable to re-open stdin: \n",
            "Selecting previously unselected package w3m.\n",
            "(Reading database ... 129824 files and directories currently installed.)\n",
            "Preparing to unpack .../w3m_0.5.3+git20210102-6ubuntu0.1_amd64.deb ...\n",
            "Unpacking w3m (0.5.3+git20210102-6ubuntu0.1) ...\n",
            "Setting up w3m (0.5.3+git20210102-6ubuntu0.1) ...\n",
            "Processing triggers for man-db (2.10.2-1) ...\n",
            "/content\n"
          ]
        },
        {
          "output_type": "stream",
          "name": "stderr",
          "text": [
            "WARNING:yfinance:price-repair-100x: Cannot check single-row table for 100x price errors\n"
          ]
        },
        {
          "output_type": "stream",
          "name": "stdout",
          "text": [
            "2702.T\n",
            "2018-06-26\n",
            "Open\n",
            "\r[*********************100%***********************]  1 of 1 completed\n",
            "              Open    High     Low   Close    Adj Close   Volume  Repaired?\n",
            "Date                                                                       \n",
            "2018-06-26  5720.0  5750.0  5650.0  5690.0  5461.079102  1319900      False\n",
            "2702.T\n",
            "2018-04-24\n",
            "Open\n"
          ]
        },
        {
          "output_type": "stream",
          "name": "stderr",
          "text": [
            "WARNING:yfinance:price-repair-100x: Cannot check single-row table for 100x price errors\n"
          ]
        },
        {
          "output_type": "stream",
          "name": "stdout",
          "text": [
            "\r[*********************100%***********************]  1 of 1 completed\n",
            "              Open    High     Low   Close    Adj Close  Volume  Repaired?\n",
            "Date                                                                      \n",
            "2018-04-24  5160.0  5170.0  5120.0  5150.0  4942.804199  103000      False\n",
            "560.0\n"
          ]
        }
      ],
      "source": [
        "!sudo apt-get install -qq w3m # to act as web browser\n",
        "!xdg-settings set default-web-browser w3m.desktop # to set default browser\n",
        "%cd /content\n",
        "dateList = []\n",
        "profit = 0\n",
        "\n",
        "with open(\"drive/MyDrive/trades/5YrYutaiMini.txt\") as labelDateFile:\n",
        "    reader = csv.reader(labelDateFile)\n",
        "    for row in reader:\n",
        "      labelList = []\n",
        "      dateList.append(row[0])\n",
        "      if len(row) > 1:\n",
        "        labelList = row[1:]\n",
        "      if labelList:\n",
        "        for l in labelList:\n",
        "          sellPrice = getPrice(l+\".T\",dateList[-1],\"Open\")\n",
        "          buyPrice = getPrice(l+\".T\",dateList[-3],\"Open\")\n",
        "          profit += sellPrice - buyPrice\n",
        "    print (profit)\n"
      ]
    },
    {
      "cell_type": "code",
      "execution_count": 8,
      "metadata": {
        "id": "yDEqZrdl2fWU",
        "outputId": "e1f0269a-a0c1-4fdf-eb20-6866c63c54a3",
        "colab": {
          "base_uri": "https://localhost:8080/"
        }
      },
      "outputs": [
        {
          "output_type": "stream",
          "name": "stderr",
          "text": [
            "WARNING:yfinance:price-repair-100x: Cannot check single-row table for 100x price errors\n"
          ]
        },
        {
          "output_type": "stream",
          "name": "stdout",
          "text": [
            "2702.T\n",
            "2018-06-26\n",
            "Open\n",
            "\r[*********************100%***********************]  1 of 1 completed"
          ]
        },
        {
          "output_type": "stream",
          "name": "stderr",
          "text": [
            "WARNING:yfinance:price-repair-100x: Cannot check single-row table for 100x price errors\n"
          ]
        },
        {
          "output_type": "stream",
          "name": "stdout",
          "text": [
            "\n",
            "              Open    High     Low   Close   Adj Close   Volume  Repaired?\n",
            "Date                                                                      \n",
            "2018-06-26  5720.0  5750.0  5650.0  5690.0  5461.07959  1319900      False\n",
            "2702.T\n",
            "2018-04-24\n",
            "Open\n",
            "\r[*********************100%***********************]  1 of 1 completed\n",
            "              Open    High     Low   Close    Adj Close  Volume  Repaired?\n",
            "Date                                                                      \n",
            "2018-04-24  5160.0  5170.0  5120.0  5150.0  4942.804688  103000      False\n"
          ]
        },
        {
          "output_type": "stream",
          "name": "stderr",
          "text": [
            "WARNING:yfinance:price-repair-100x: Cannot check single-row table for 100x price errors\n"
          ]
        },
        {
          "output_type": "stream",
          "name": "stdout",
          "text": [
            "^N225\n",
            "2018-04-24\n",
            "Open\n",
            "\r[*********************100%***********************]  1 of 1 completed\n",
            "                    Open          High           Low         Close  \\\n",
            "Date                                                                 \n",
            "2018-04-24  22228.820312  22304.689453  22149.589844  22278.119141   \n",
            "\n",
            "               Adj Close    Volume  Repaired?  \n",
            "Date                                           \n",
            "2018-04-24  22278.119141  76500000      False  \n",
            "^N225\n",
            "2018-06-26\n",
            "Open\n"
          ]
        },
        {
          "output_type": "stream",
          "name": "stderr",
          "text": [
            "WARNING:yfinance:price-repair-100x: Cannot check single-row table for 100x price errors\n"
          ]
        },
        {
          "output_type": "stream",
          "name": "stdout",
          "text": [
            "\r[*********************100%***********************]  1 of 1 completed\n",
            "                    Open          High           Low    Close  Adj Close  \\\n",
            "Date                                                                       \n",
            "2018-06-26  22160.330078  22368.779297  22104.119141  22342.0    22342.0   \n",
            "\n",
            "              Volume  Repaired?  \n",
            "Date                             \n",
            "2018-06-26  71300000      False  \n",
            "hedgeAmt4734430.032\n",
            "profit3248000.0\n",
            "hedgeProfit13698.046875\n",
            "3261698.046875\n"
          ]
        }
      ],
      "source": [
        "\n",
        "budget = 30000000\n",
        "profit = 0\n",
        "hedgeFlag = 1\n",
        "\n",
        "\n",
        "with open(\"drive/MyDrive/trades/5YrYutaiMini.txt\") as labelDateFile:\n",
        "    reader = csv.reader(labelDateFile)\n",
        "    for row in reader:\n",
        "      labelList = []\n",
        "      multiplierList = []\n",
        "      buyPriceList =[]\n",
        "      sellPriceList = []\n",
        "      betaList = []\n",
        "      longPosList = []\n",
        "      dateList.append(row[0])\n",
        "      if len(row) > 1:\n",
        "        labelList = row[1:]\n",
        "      if labelList:\n",
        "        budgetPerLabel = budget/len(labelList)\n",
        "        for l in labelList:\n",
        "          sellPriceList.append(getPrice(l+\".T\",dateList[-1],\"Open\"))\n",
        "          buyPrice = getPrice(l+\".T\",dateList[-3],\"Open\")\n",
        "          buyPriceList.append(buyPrice)\n",
        "          betaList.append(yfinance.Ticker(l+\".T\").info.get('beta'))\n",
        "          multiplier = int(round(budgetPerLabel/buyPrice, -2))\n",
        "          multiplierList.append(multiplier)\n",
        "          sellHedgePrice = getPrice(\"^N225\",dateList[-3],\"Open\")\n",
        "          buyHedgePrice = getPrice(\"^N225\",dateList[-1],\"Open\")\n",
        "          profit += (profitCal(sellPriceList,buyPriceList,multiplierList,betaList,hedgeFlag,sellHedgePrice,buyHedgePrice))\n",
        "    print (profit)\n",
        "\n"
      ]
    }
  ],
  "metadata": {
    "colab": {
      "provenance": [],
      "authorship_tag": "ABX9TyMGcBq+TOqg8xzQ1C9PUH5A",
      "include_colab_link": true
    },
    "kernelspec": {
      "display_name": "Python 3",
      "name": "python3"
    },
    "language_info": {
      "name": "python"
    }
  },
  "nbformat": 4,
  "nbformat_minor": 0
}